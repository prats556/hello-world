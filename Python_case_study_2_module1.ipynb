{
  "nbformat": 4,
  "nbformat_minor": 0,
  "metadata": {
    "colab": {
      "name": "Python case study 2_module1",
      "provenance": [],
      "authorship_tag": "ABX9TyPbTXQvtFIkHAAbfkhP+jDc",
      "include_colab_link": true
    },
    "kernelspec": {
      "name": "python3",
      "display_name": "Python 3"
    },
    "language_info": {
      "name": "python"
    }
  },
  "cells": [
    {
      "cell_type": "markdown",
      "metadata": {
        "id": "view-in-github",
        "colab_type": "text"
      },
      "source": [
        "<a href=\"https://colab.research.google.com/github/prats556/hello-world/blob/master/Python_case_study_2_module1.ipynb\" target=\"_parent\"><img src=\"https://colab.research.google.com/assets/colab-badge.svg\" alt=\"Open In Colab\"/></a>"
      ]
    },
    {
      "cell_type": "code",
      "metadata": {
        "colab": {
          "base_uri": "https://localhost:8080/"
        },
        "id": "U4G84IF829zH",
        "outputId": "db5c5536-8df6-43bf-8b33-57b96511ba95"
      },
      "source": [
        "#1\n",
        "tup1 = (10,20,30)\n",
        "tup2 = (40,50,60)\n",
        "t_combine = tup1 + tup2\n",
        "print(str(t_combine))"
      ],
      "execution_count": 1,
      "outputs": [
        {
          "output_type": "stream",
          "text": [
            "(10, 20, 30, 40, 50, 60)\n"
          ],
          "name": "stdout"
        }
      ]
    },
    {
      "cell_type": "code",
      "metadata": {
        "colab": {
          "base_uri": "https://localhost:8080/"
        },
        "id": "QGJTPVHP3w7I",
        "outputId": "846fdace-dc09-4d94-eebd-ca29a08c34d5"
      },
      "source": [
        "t_combine[2]\n",
        "t_combine[0:3]\n",
        "t_combine[-1:-3]"
      ],
      "execution_count": 5,
      "outputs": [
        {
          "output_type": "execute_result",
          "data": {
            "text/plain": [
              "()"
            ]
          },
          "metadata": {
            "tags": []
          },
          "execution_count": 5
        }
      ]
    },
    {
      "cell_type": "code",
      "metadata": {
        "colab": {
          "base_uri": "https://localhost:8080/"
        },
        "id": "UewPcxms4wEe",
        "outputId": "bc983593-1fc3-4b5c-ce62-3495301f9f31"
      },
      "source": [
        "my_list = [1,2,3]\n",
        "my_list2 = ['a','b','c']\n",
        "my_list3 = [True,False]\n",
        "my_list_comb = my_list + my_list2 + my_list3\n",
        "print(my_list_comb)\n",
        "my_list_comb.append('sparta')\n",
        "my_list_comb.append(123)\n",
        "print(my_list_comb)"
      ],
      "execution_count": 11,
      "outputs": [
        {
          "output_type": "stream",
          "text": [
            "[1, 2, 3, 'a', 'b', 'c', True, False]\n",
            "[1, 2, 3, 'a', 'b', 'c', True, False, 'sparta', 123]\n"
          ],
          "name": "stdout"
        }
      ]
    },
    {
      "cell_type": "code",
      "metadata": {
        "colab": {
          "base_uri": "https://localhost:8080/"
        },
        "id": "FCOEG6H47Ke_",
        "outputId": "895b84fc-e1b4-4142-db04-e99102614be9"
      },
      "source": [
        "fruit = {'apple':85,'banana':54,'mango':120,'gauva':70}\n",
        "print(fruit.keys())\n",
        "print(fruit.values())\n"
      ],
      "execution_count": 15,
      "outputs": [
        {
          "output_type": "stream",
          "text": [
            "dict_keys(['apple', 'banana', 'mango', 'gauva'])\n",
            "dict_values([85, 54, 120, 70])\n"
          ],
          "name": "stdout"
        }
      ]
    },
    {
      "cell_type": "code",
      "metadata": {
        "colab": {
          "base_uri": "https://localhost:8080/",
          "height": 129
        },
        "id": "8VFQNz-y830O",
        "outputId": "ca346830-1871-43f9-992e-0c4d546a1179"
      },
      "source": [
        "my_set = {1,1,'a'.'a',True,True}\n",
        "print(my_set)"
      ],
      "execution_count": 18,
      "outputs": [
        {
          "output_type": "error",
          "ename": "SyntaxError",
          "evalue": "ignored",
          "traceback": [
            "\u001b[0;36m  File \u001b[0;32m\"<ipython-input-18-65f7cb3b0709>\"\u001b[0;36m, line \u001b[0;32m1\u001b[0m\n\u001b[0;31m    my_set = {1,1,'a'.'a',True,True}\u001b[0m\n\u001b[0m                        ^\u001b[0m\n\u001b[0;31mSyntaxError\u001b[0m\u001b[0;31m:\u001b[0m invalid syntax\n"
          ]
        }
      ]
    }
  ]
}